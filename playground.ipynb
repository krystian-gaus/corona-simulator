{
 "cells": [
  {
   "cell_type": "markdown",
   "id": "2dd2c3e0",
   "metadata": {},
   "source": [
    "# Corona Simulator"
   ]
  },
  {
   "cell_type": "markdown",
   "id": "535734af",
   "metadata": {},
   "source": [
    "---"
   ]
  },
  {
   "cell_type": "markdown",
   "id": "7b58399e",
   "metadata": {},
   "source": [
    "# Table of Contents\n",
    "\n",
    "1. [System Requirements](#1.-System-Requirements)\n",
    "  * [Requirements Anaylsis](#Requirements-Analysis)\n",
    "  * [Visual System Mappings](#Visual-System-Mappings)\n",
    "  * [Mathematical Specification](#Mathematical-Specification)\n",
    "\n",
    "\n",
    "2. [System Design](#2.-System-Design)\n",
    "  * [Differential Specification](#Differential-Specification)\n",
    "  * [Modelling](#Modelling)\n",
    "  * [Simulation](#Simulation)\n",
    "\n",
    "\n",
    "3. [System Validation](#3.-System-Validation)\n"
   ]
  },
  {
   "cell_type": "markdown",
   "id": "446e9479",
   "metadata": {},
   "source": [
    "---"
   ]
  },
  {
   "cell_type": "markdown",
   "id": "1e351f9f",
   "metadata": {},
   "source": [
    "---"
   ]
  },
  {
   "cell_type": "markdown",
   "id": "2fa4343b",
   "metadata": {},
   "source": [
    "# 1. System Requirements"
   ]
  },
  {
   "cell_type": "markdown",
   "id": "0d10fdd3",
   "metadata": {},
   "source": [
    "<center><img src=\"images/requirements.png\" alt=\"Requirements\" width=\"70%\"/>"
   ]
  },
  {
   "cell_type": "markdown",
   "id": "3f96cf92",
   "metadata": {},
   "source": [
    "## Requirements Analysis"
   ]
  },
  {
   "cell_type": "markdown",
   "id": "3b89da73",
   "metadata": {},
   "source": [
    "**Goal:** Simulate Corona infections\n",
    "\n",
    "**Scope:** Get an idea of how Corona spreads. And have fun!\n",
    "\n",
    "**Assumptions:**\n",
    "- Agents interact with a certain probability (per timestep)\n",
    "- Infected agents are contagious\n",
    "- Infected agents can die with a certain probability\n",
    "- Infected agents are healed after a certain period of time\n",
    "- There is a certain chance of contagion when an uninfected agent meets an infected agent"
   ]
  },
  {
   "cell_type": "markdown",
   "id": "e8d49570",
   "metadata": {},
   "source": [
    "## Visual System Mappings"
   ]
  },
  {
   "cell_type": "markdown",
   "id": "05bb1691",
   "metadata": {},
   "source": [
    "#### Entity Relationship Diagram"
   ]
  },
  {
   "cell_type": "markdown",
   "id": "4b9a5b94",
   "metadata": {},
   "source": [
    "#### Stock & Flow Diagram"
   ]
  },
  {
   "cell_type": "markdown",
   "id": "a248259c",
   "metadata": {},
   "source": [
    "## Mathematical Specification"
   ]
  },
  {
   "cell_type": "markdown",
   "id": "043013be",
   "metadata": {},
   "source": [
    "---"
   ]
  },
  {
   "cell_type": "markdown",
   "id": "62548e62",
   "metadata": {},
   "source": [
    "---"
   ]
  },
  {
   "cell_type": "markdown",
   "id": "e454096c",
   "metadata": {},
   "source": [
    "# 2. System Design"
   ]
  },
  {
   "cell_type": "markdown",
   "id": "198aeb8d",
   "metadata": {},
   "source": [
    "<center><img src=\"images/design.png\" alt=\"Design\" width=\"70%\"/>"
   ]
  },
  {
   "cell_type": "markdown",
   "id": "b56c9bdd",
   "metadata": {},
   "source": [
    "## Differential Specification"
   ]
  },
  {
   "cell_type": "markdown",
   "id": "5c68b62b",
   "metadata": {},
   "source": [
    "## Modelling"
   ]
  },
  {
   "cell_type": "code",
   "execution_count": null,
   "id": "cfc4a96d",
   "metadata": {},
   "outputs": [],
   "source": [
    "##############\n",
    "# 0. IMPORTS #\n",
    "##############\n",
    "\n",
    "# CADCAD STANDARD DEPENDENCIES\n",
    "\n",
    "# cadCAD configuration modules\n",
    "from cadCAD.configuration.utils import config_sim\n",
    "from cadCAD.configuration import Experiment\n",
    "\n",
    "# cadCAD simulation engine modules\n",
    "from cadCAD.engine import ExecutionMode, ExecutionContext\n",
    "from cadCAD.engine import Executor\n",
    "\n",
    "# cadCAD global simulation configuration list\n",
    "from cadCAD import configs\n",
    "\n",
    "# Included with cadCAD\n",
    "import pandas as pd\n",
    "import plotly.express as px\n",
    "\n",
    "# ADDITIONAL DEPENDENCIES\n",
    "\n",
    "# For networks\n",
    "import networkx as nx\n",
    "\n",
    "# For analytics\n",
    "import numpy as np\n",
    "\n",
    "# Visualization, analysis and plotting modules\n",
    "from matplotlib import pyplot as plt\n",
    "import pandas as pd\n",
    "import plotly.express as px\n",
    "\n",
    "# Standard libraries\n",
    "import math\n",
    "from collections import Counter"
   ]
  },
  {
   "cell_type": "code",
   "execution_count": null,
   "id": "45333400",
   "metadata": {},
   "outputs": [],
   "source": [
    "###################################\n",
    "# 0. INITIALIZING AGENTS NETWORKk #\n",
    "###################################\n",
    "\n",
    "# Generate a empty directional graph\n",
    "G = nx.MultiDiGraph()\n",
    "\n",
    "# Number of agents\n",
    "NUMBER_AGENTS = 1000\n",
    "\n",
    "# Percentage of the infected\n",
    "INFECTION_RATE = 0.01\n",
    "\n",
    "for agent in range(NUMBER_AGENTS):\n",
    "    is_infected = np.random.rand() < INFECTION_RATE\n",
    "    \n",
    "    # Add agent to the graph\n",
    "    G.add_node(agent, infected=is_infected, days_infected=0, alive=True)\n",
    "\n",
    "infected = 0\n",
    "uninfected = 0\n",
    "for agent in G.nodes(data=True):\n",
    "    if agent[1]['infected']:\n",
    "        infected += 1\n",
    "    else:\n",
    "        uninfected += 1\n",
    "\n",
    "print(\"count infected: \" + str(infected))\n",
    "print(\"count uninfected: \" + str(uninfected))\n",
    "# print(\"\")\n",
    "# print(\"agents_network:\")\n",
    "# print(G.nodes(data=True))"
   ]
  },
  {
   "cell_type": "code",
   "execution_count": null,
   "id": "0832335f",
   "metadata": {},
   "outputs": [],
   "source": [
    "######################\n",
    "# 1. STATE VARIABLES #\n",
    "######################\n",
    "\n",
    "initial_state = {\n",
    "    'agents_network': G\n",
    "}\n",
    "\n",
    "\n",
    "########################\n",
    "# 2. SYSTEM PARAMETERS #\n",
    "########################\n",
    "\n",
    "system_params = {\n",
    "    'interaction_probability': [0.01], # Pair-wise interaction probability\n",
    "    'infection_probability': [0.1], # Infection probability\n",
    "    'death_probability': [0.01], # Probability to die, if infected (per timestep)\n",
    "    'days_to_heal': [6] # Days after an infected agents is healed\n",
    "}\n",
    "\n",
    "\n",
    "#######################\n",
    "# 3. POLICY FUNCTIONS #\n",
    "#######################\n",
    "\n",
    "def p_interact(params, substep, state_history, previous_state):\n",
    "    \"\"\"\n",
    "    Control agent interactions.\n",
    "    \"\"\"\n",
    "    \n",
    "    # Variables and parameters to be used\n",
    "    G = previous_state['agents_network']\n",
    "    interaction_probability = params['interaction_probability']\n",
    "    infection_probability = params['infection_probability']\n",
    "    \n",
    "    # List of agent interactions\n",
    "    interactions = []\n",
    "    \n",
    "    for agent_1 in G.nodes:\n",
    "        for agent_2 in G.nodes:\n",
    "            if agent_1 == agent_2 or G.nodes[agent_1]['infected'] == G.nodes[agent_2]['infected'] or G.nodes[agent_1]['alive'] is False or G.nodes[agent_2]['alive'] is False:\n",
    "                continue\n",
    "            else:\n",
    "                will_interact = np.random.rand() < interaction_probability\n",
    "                will_infect = np.random.rand() < infection_probability\n",
    "                \n",
    "                if will_interact and will_infect:\n",
    "                    G.nodes[agent_1]['infected'] = True\n",
    "                    G.nodes[agent_2]['infected'] = True\n",
    "                    \n",
    "    # Return agent interactions\n",
    "    return {'interactions': interactions}\n",
    "\n",
    "\n",
    "#############################\n",
    "# 4. STATE UPDATE FUNCTIONS #\n",
    "#############################\n",
    "\n",
    "def s_agents_network(params, substep, state_history, previous_state, policy_input):\n",
    "    # Retrieve used variables and policy inputs\n",
    "    G_new = previous_state['agents_network'].copy()\n",
    "    interactions = policy_input['interactions']\n",
    "    \n",
    "    days_to_heal = params['days_to_heal']\n",
    "    death_probability = params['death_probability']\n",
    "    \n",
    "    for agent in G_new.nodes:\n",
    "        if G_new.nodes[agent]['infected'] and G_new.nodes[agent]['alive']:\n",
    "            if G_new.nodes[agent]['days_infected'] < days_to_heal:\n",
    "                G_new.nodes[agent]['days_infected'] += 1\n",
    "                will_die = np.random.rand() < death_probability\n",
    "                if will_die:\n",
    "                    G_new.nodes[agent]['alive'] = False\n",
    "            else:\n",
    "                G_new.nodes[agent]['days_infected'] = 0\n",
    "                G_new.nodes[agent]['infected'] = False\n",
    "        \n",
    "    return ('agents_network', G_new)\n",
    "\n",
    "\n",
    "##################################\n",
    "# 5. PARTIAL STATE UPDATE BLOCKS #\n",
    "##################################\n",
    "\n",
    "# Updates run in parallel\n",
    "partial_state_update_blocks = [\n",
    "    {   \n",
    "        'policies': {\n",
    "            'p_interact': p_interact\n",
    "        },\n",
    "        'variables': {\n",
    "            'agents_network': s_agents_network\n",
    "        }\n",
    "    }\n",
    "]"
   ]
  },
  {
   "cell_type": "markdown",
   "id": "27951ce9",
   "metadata": {},
   "source": [
    "## Simulation"
   ]
  },
  {
   "cell_type": "code",
   "execution_count": null,
   "id": "2eceb892",
   "metadata": {},
   "outputs": [],
   "source": [
    "####################\n",
    "# 6. CONFIGURATION #\n",
    "####################\n",
    "\n",
    "# the config_sim function creates an object that informs cadCAD about the scope of the simulation\n",
    "sim_config = config_sim({\n",
    "    \"N\": 1, # the number of times we'll run the simulation\n",
    "    \"T\": range(30), # the number of timesteps the simulation will run for\n",
    "    \"M\": system_params # the parameters of the system\n",
    "})\n",
    "\n",
    "# Clear any prior configs\n",
    "del configs[:]\n",
    "\n",
    "# each cacCAD experiment has configuration options which\n",
    "# we will pass to the append_configs function to create our simulation configuration\n",
    "experiment = Experiment()\n",
    "experiment.append_configs(\n",
    "    initial_state = initial_state,\n",
    "    partial_state_update_blocks = partial_state_update_blocks,\n",
    "    sim_configs = sim_config\n",
    ")\n",
    "\n",
    "\n",
    "################\n",
    "# 7. EXECUTION #\n",
    "################\n",
    "\n",
    "exec_context = ExecutionContext() # decides how cadCAD should run a simulation (default: single or multi threaded)\n",
    "simulation = Executor(exec_context=exec_context, configs=experiment.configs)\n",
    "raw_result, tensor_field, sessions = simulation.execute() # execute the simulation\n",
    "\n",
    "\n",
    "####################################\n",
    "# 8. SIMULATION OUTPUT PREPARATION #\n",
    "####################################\n",
    "\n",
    "simulation_result = pd.DataFrame(raw_result)\n",
    "simulation_result.head()"
   ]
  },
  {
   "cell_type": "code",
   "execution_count": null,
   "id": "5ad8d2d9",
   "metadata": {},
   "outputs": [],
   "source": [
    "##########################\n",
    "# 9. SIMULATION ANALYSIS #\n",
    "##########################\n",
    "\n",
    "# Get the agents network at the end\n",
    "result = simulation_result.agents_network.iloc[-1]\n",
    "\n",
    "alive = 0\n",
    "dead = 0\n",
    "for agent in result.nodes(data=True):\n",
    "    if agent[1]['alive']:\n",
    "        alive += 1\n",
    "    else:\n",
    "        dead += 1\n",
    "\n",
    "print(\"count alive: \" + str(alive))\n",
    "print(\"count dead: \" + str(dead))\n",
    "\n",
    "# print(\"\")\n",
    "# print(\"result:\")\n",
    "# print(result.nodes(data=True))"
   ]
  },
  {
   "cell_type": "code",
   "execution_count": null,
   "id": "c02c8ed2",
   "metadata": {},
   "outputs": [],
   "source": [
    "###############################\n",
    "# 9. SIMULATION ANALYSIS PLOT #\n",
    "###############################\n",
    "\n",
    "dead = []\n",
    "alive = []\n",
    "infected = []\n",
    "timestep = []\n",
    "for agent_network_timestep in simulation_result.agents_network:\n",
    "    died = 0\n",
    "    survived = 0\n",
    "    positive = 0\n",
    "    for agent in agent_network_timestep.nodes(data=True):\n",
    "        if agent[1]['infected']:\n",
    "            positive += 1\n",
    "        if agent[1]['alive']:\n",
    "            survived += 1\n",
    "        else:\n",
    "            died += 1\n",
    "    timestep.append(len(dead))\n",
    "    dead.append(died)\n",
    "    alive.append(survived)\n",
    "    infected.append(positive)\n",
    "\n",
    "losses_result = pd.DataFrame({\"dead\": dead, \"alive\": alive, \"infected\": infected, \"timestep\": timestep})\n",
    "\n",
    "# print(losses_result)\n",
    "\n",
    "pd.options.plotting.backend = \"plotly\"\n",
    "losses_result.plot(\n",
    "    kind='line',\n",
    "    x='timestep',\n",
    "    y=['infected', 'dead', 'alive']\n",
    ")\n"
   ]
  },
  {
   "cell_type": "markdown",
   "id": "b796dcfd",
   "metadata": {},
   "source": [
    "---"
   ]
  },
  {
   "cell_type": "markdown",
   "id": "d0ec5e5f",
   "metadata": {},
   "source": [
    "---"
   ]
  },
  {
   "cell_type": "markdown",
   "id": "e62eafdd",
   "metadata": {},
   "source": [
    "# 3. System Validation"
   ]
  },
  {
   "cell_type": "markdown",
   "id": "21d59595",
   "metadata": {},
   "source": [
    "<center><img src=\"images/validation.png\" alt=\"Validation\" width=\"70%\"/>"
   ]
  }
 ],
 "metadata": {
  "kernelspec": {
   "display_name": "Python 3 (ipykernel)",
   "language": "python",
   "name": "python3"
  },
  "language_info": {
   "codemirror_mode": {
    "name": "ipython",
    "version": 3
   },
   "file_extension": ".py",
   "mimetype": "text/x-python",
   "name": "python",
   "nbconvert_exporter": "python",
   "pygments_lexer": "ipython3",
   "version": "3.10.8"
  }
 },
 "nbformat": 4,
 "nbformat_minor": 5
}
